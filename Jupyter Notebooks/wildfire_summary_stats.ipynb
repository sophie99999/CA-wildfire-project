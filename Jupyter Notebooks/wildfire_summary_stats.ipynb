{
 "cells": [
  {
   "cell_type": "code",
   "execution_count": 1,
   "metadata": {},
   "outputs": [
    {
     "name": "stdout",
     "output_type": "stream",
     "text": [
      "{'Year': '2019', 'Acres Burned': '253,321', 'Fire Incidents': '6,872', 'Fatalities': '3', 'Structures Destroyed': '732'}\n",
      "{'Year': '2018', 'Acres Burned': '1,963,101', 'Fire Incidents': '7,639', 'Fatalities': '100', 'Structures Destroyed': '24,226'}\n",
      "{'Year': '2017', 'Acres Burned': '1,548,429', 'Fire Incidents': '9,270', 'Fatalities': '44', 'Structures Destroyed': '11,643'}\n",
      "{'Year': '2016', 'Acres Burned': '669,534', 'Fire Incidents': '6,959', 'Fatalities': '0', 'Structures Destroyed': '1,274'}\n",
      "{'Year': '2015', 'Acres Burned': '880,899', 'Fire Incidents': '8,238', 'Fatalities': '7', 'Structures Destroyed': '3,159'}\n",
      "{'Year': '2014', 'Acres Burned': '620,000', 'Fire Incidents': '7,800', 'Fatalities': '0', 'Structures Destroyed': '568'}\n"
     ]
    }
   ],
   "source": [
    "from splinter import Browser\n",
    "from splinter.exceptions import ElementDoesNotExist\n",
    "from bs4 import BeautifulSoup\n",
    "import time\n",
    "import pymongo\n",
    "\n",
    "# client = pymongo.MongoClient('localhost', 27017)\n",
    "\n",
    "executable_path = {'executable_path': '/usr/local/bin/chromedriver'}\n",
    "browser = Browser(\"chrome\", **executable_path)\n",
    "url = f\"https://www.fire.ca.gov/incidents\"\n",
    "browser.visit(url)\n",
    "browser.html\n",
    "html = browser.html\n",
    "soup = BeautifulSoup(html, \"html.parser\")\n",
    "\n",
    "list_items = soup.find_all(\"li\")\n",
    "\n",
    "yearly_pages = []\n",
    "\n",
    "for item in list_items:\n",
    "    if item.find(\"a\"):\n",
    "        anchor = item.find(\"a\")\n",
    "        links = anchor.get(\"href\")\n",
    "        if \"/incidents/\" in links and len(links) == 16:\n",
    "            yearly_pages.append(links)\n",
    "\n",
    "for idx in range(len(yearly_pages) - 1):\n",
    "    year_link = browser.find_link_by_href(yearly_pages[idx])\n",
    "    year_link[0].click()\n",
    "    time.sleep(5)\n",
    "    \n",
    "    yearly_html = browser.html\n",
    "    yearly_soup = BeautifulSoup(yearly_html, \"html.parser\")\n",
    "    \n",
    "    summary_div = yearly_soup.find(\"div\", class_=\"data-icon-list\")\n",
    "    summary_stats = summary_div.find_all(\"h4\")\n",
    "    \n",
    "    for i in range(len(summary_stats)):\n",
    "        summary_stats[i] = summary_stats[i].text.split(\" \")[0]\n",
    "    \n",
    "    temp_dict = {}\n",
    "    \n",
    "    temp_dict['Year'] = yearly_pages[idx].split(\"/\")[-2]\n",
    "    temp_dict['Acres Burned'] = summary_stats[0]\n",
    "    temp_dict['Fire Incidents'] = summary_stats[1]\n",
    "    temp_dict['Fatalities'] = summary_stats[2]\n",
    "    temp_dict['Structures Destroyed'] = summary_stats[3]\n",
    "    \n",
    "    print(temp_dict)\n",
    "    \n",
    "#     db = client.wildfire\n",
    "#     summary_stats = db.wildfire_yearly_stats\n",
    "#     summary_stats.insert_one(temp_dict)\n",
    "    \n",
    "    browser.back()\n",
    "    time.sleep(5)\n",
    "    \n",
    "browser.quit()"
   ]
  },
  {
   "cell_type": "code",
   "execution_count": null,
   "metadata": {},
   "outputs": [],
   "source": []
  }
 ],
 "metadata": {
  "kernelspec": {
   "display_name": "Python 3",
   "language": "python",
   "name": "python3"
  },
  "language_info": {
   "codemirror_mode": {
    "name": "ipython",
    "version": 3
   },
   "file_extension": ".py",
   "mimetype": "text/x-python",
   "name": "python",
   "nbconvert_exporter": "python",
   "pygments_lexer": "ipython3",
   "version": "3.6.8"
  }
 },
 "nbformat": 4,
 "nbformat_minor": 2
}
